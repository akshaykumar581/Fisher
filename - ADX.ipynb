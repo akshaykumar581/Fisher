{
 "cells": [
  {
   "cell_type": "code",
   "execution_count": 2,
   "id": "d7a0fc87",
   "metadata": {},
   "outputs": [],
   "source": [
    "#Importing required libraries\n",
    "import numpy as np\n",
    "import pandas as pd\n",
    "import matplotlib.pyplot as plt\n",
    "import math\n"
   ]
  },
  {
   "cell_type": "code",
   "execution_count": 3,
   "id": "4da5a968",
   "metadata": {},
   "outputs": [
    {
     "name": "stdout",
     "output_type": "stream",
     "text": [
      "           Date        Open        High         Low       Close   Adj Close  \\\n",
      "0    2020-01-02   74.059998   75.150002   73.797501   75.087502   73.785904   \n",
      "1    2020-01-03   74.287498   75.144997   74.125000   74.357498   73.068573   \n",
      "2    2020-01-06   73.447502   74.989998   73.187500   74.949997   73.650787   \n",
      "3    2020-01-07   74.959999   75.224998   74.370003   74.597504   73.304413   \n",
      "4    2020-01-08   74.290001   76.110001   74.290001   75.797501   74.483597   \n",
      "..          ...         ...         ...         ...         ...         ...   \n",
      "248  2020-12-24  131.320007  133.460007  131.100006  131.970001  130.802322   \n",
      "249  2020-12-28  133.990005  137.339996  133.509995  136.690002  135.480591   \n",
      "250  2020-12-29  138.050003  138.789993  134.339996  134.869995  133.676682   \n",
      "251  2020-12-30  135.580002  135.990005  133.399994  133.720001  132.536850   \n",
      "252  2020-12-31  134.080002  134.740005  131.720001  132.690002  131.515976   \n",
      "\n",
      "        Volume  \n",
      "0    135480400  \n",
      "1    146322800  \n",
      "2    118387200  \n",
      "3    108872000  \n",
      "4    132079200  \n",
      "..         ...  \n",
      "248   54930100  \n",
      "249  124486200  \n",
      "250  121047300  \n",
      "251   96452100  \n",
      "252   99116600  \n",
      "\n",
      "[253 rows x 7 columns]\n"
     ]
    }
   ],
   "source": [
    "df = pd.read_csv('stock_prices (2).csv')\n",
    "print(df)"
   ]
  },
  {
   "cell_type": "code",
   "execution_count": 4,
   "id": "b0cce6bf",
   "metadata": {},
   "outputs": [],
   "source": [
    "#Listing different columns\n",
    "high=df[\"High\"].tolist()\n",
    "low=df[\"Low\"].tolist()\n",
    "close=df[\"Close\"].tolist()"
   ]
  },
  {
   "cell_type": "code",
   "execution_count": 5,
   "id": "4b2363cc",
   "metadata": {},
   "outputs": [],
   "source": [
    "#Defining lists for +DMs,-DMs, and TR values\n",
    "pdm=[]\n",
    "mdm=[]\n",
    "tr=[]"
   ]
  },
  {
   "cell_type": "code",
   "execution_count": 6,
   "id": "150b31b0",
   "metadata": {},
   "outputs": [],
   "source": [
    "#For loop to define +DM, -DM, and TR\n",
    "for i in range(253):\n",
    "  if(i==0):\n",
    "    pdm.append(high[i]-0)\n",
    "    mdm.append(0-low[i])\n",
    "    tr.append(max(high[i]-low[i],high[i]-0))\n",
    "  else:\n",
    "    pdm.append(high[i]-high[i-1])\n",
    "    mdm.append(low[i-1]-low[i])\n",
    "    tr.append(max(high[i]-low[i],high[i]-close[i-1]))\n"
   ]
  },
  {
   "cell_type": "code",
   "execution_count": 7,
   "id": "0af4591f",
   "metadata": {},
   "outputs": [],
   "source": [
    "#Defining Lists for Smoothed +DM, Smoothed -DM, and Smoothed TR\n",
    "smpdm=[]\n",
    "smmdm=[]\n",
    "smtr=[]"
   ]
  },
  {
   "cell_type": "code",
   "execution_count": 8,
   "id": "bfcafd66",
   "metadata": {},
   "outputs": [],
   "source": [
    "#Defining lists to store +DI, -DI, DMI(DX)\n",
    "pdi=[]\n",
    "mdi=[]\n",
    "dmi=[]"
   ]
  },
  {
   "cell_type": "code",
   "execution_count": 9,
   "id": "8af44ab3",
   "metadata": {},
   "outputs": [],
   "source": [
    "for i in range(14,253):\n",
    "  sumpdm=0\n",
    "  summdm=0\n",
    "  sumtr=0\n",
    "  for j in range(i-14,i):\n",
    "    sumpdm+=pdm[j]\n",
    "    summdm+=mdm[j]\n",
    "    sumtr+=tr[j]\n",
    "  #Defining smoothed +DMs, -DMs, and TR with corresponding formulae\n",
    "  smpdm.append(sumpdm*(13/14)+pdm[i])\n",
    "  smmdm.append(summdm*(13/14)+mdm[i])\n",
    "  smtr.append(sumtr*(13/14)+tr[i])"
   ]
  },
  {
   "cell_type": "code",
   "execution_count": 10,
   "id": "401acef8",
   "metadata": {},
   "outputs": [],
   "source": [
    "for i in range(len(smtr)):\n",
    "  #Defining +DI, -DI, DMI(DX) with corresponding formulae\n",
    "  pdi.append(smpdm[i]/smtr[i])\n",
    "  mdi.append(smmdm[i]/smtr[i])\n",
    "  dmi.append((abs(pdi[i]-mdi[i])/abs(pdi[i]+mdi[i]))*100)"
   ]
  },
  {
   "cell_type": "code",
   "execution_count": 11,
   "id": "60255cfb",
   "metadata": {},
   "outputs": [],
   "source": [
    "adx=[]# Defining ADX with corresponding formula\n",
    "sum=0\n",
    "for i in range(14):\n",
    "  sum+=dmi[i]\n",
    "adx.append(sum/14)"
   ]
  },
  {
   "cell_type": "code",
   "execution_count": 12,
   "id": "7bd2ecc7",
   "metadata": {},
   "outputs": [
    {
     "name": "stdout",
     "output_type": "stream",
     "text": [
      "1\n"
     ]
    }
   ],
   "source": [
    "print(len(adx))"
   ]
  },
  {
   "cell_type": "code",
   "execution_count": 13,
   "id": "174905e0",
   "metadata": {},
   "outputs": [],
   "source": [
    "#Defining ADX with corresponding values\n",
    "for i in range(15,len(dmi)):\n",
    "  adx.append(((adx[i-15]*13)+dmi[i])/14)"
   ]
  },
  {
   "cell_type": "code",
   "execution_count": 14,
   "id": "294308e7",
   "metadata": {},
   "outputs": [],
   "source": [
    "for i in range(len(adx)):\n",
    "  adx[i]*=100"
   ]
  },
  {
   "cell_type": "code",
   "execution_count": 15,
   "id": "6c5f5505",
   "metadata": {},
   "outputs": [
    {
     "name": "stdout",
     "output_type": "stream",
     "text": [
      "131\n"
     ]
    }
   ],
   "source": [
    "print(adx.index(max(adx)))"
   ]
  },
  {
   "cell_type": "code",
   "execution_count": 16,
   "id": "16749dad",
   "metadata": {},
   "outputs": [
    {
     "data": {
      "image/png": "[encoded data removed]",
      "text/plain": [
       "<Figure size 432x288 with 1 Axes>"
      ]
     },
     "metadata": {
      "needs_background": "light"
     },
     "output_type": "display_data"
    }
   ],
   "source": [
    "y=np.array(adx)#Plotting the ADX values\n",
    "plt.plot(y)\n",
    "plt.show()"
   ]
  }
 ],
 "metadata": {
  "kernelspec": {
   "display_name": "Python 3 (ipykernel)",
   "language": "python",
   "name": "python3"
  },
  "language_info": {
   "codemirror_mode": {
    "name": "ipython",
    "version": 3
   },
   "file_extension": ".py",
   "mimetype": "text/x-python",
   "name": "python",
   "nbconvert_exporter": "python",
   "pygments_lexer": "ipython3",
   "version": "3.9.12"
  }
 },
 "nbformat": 4,
 "nbformat_minor": 5
}
